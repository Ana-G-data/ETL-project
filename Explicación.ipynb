{
 "cells": [
  {
   "attachments": {},
   "cell_type": "markdown",
   "metadata": {},
   "source": [
    "#proyecto de enriquecimiento de datos\n",
    "#elegimos csv, se hace limpieza si hace falta y tenemos luego que enrqiuecrelo con más informacion\n",
    "#utilizamos API, selenium o beautiful soup(super importante)\n",
    "#visualizaciones que extraigan conclusiones\n",
    "#meterlo en mongo o SQL\n",
    "#entregamos 21 de Enero\n",
    "\n"
   ]
  },
  {
   "attachments": {},
   "cell_type": "markdown",
   "metadata": {},
   "source": [
    "1º Unir base de datos (histórico con futuro)\n",
    "2º Empezar la limpieza. Dejar solo columnas: Nombre, Apellido, Fecha nacimiento, Sexo, Nacionalidad, Anglo Status, Request Status, Programa, Duración, Medio Transporte, Nº Vuelo, Acompañado\n",
    "3º Crear base de datos con aquellos que no están repetidos (porque hayan venido a más de un programa). De esa base de datos sacamos:\n",
    "    VISUALIZACIONES:\n",
    "        - Nacionalidad\n",
    "        - Edad\n",
    "        - Fechas en que se solicitan más programas, por edades y sexo (se sacaría de los programas solicitados)\n",
    "        - Porcentaje de veteranos, se puede sacar con el número de participantes que aparecen más de una vez, hacer una gráfica de si han venido solo una vez,\n",
    "          de dos a cinco, de cinco a diez o más de diez.\n",
    "        - Como tenemos la fecha de los cursos solicitados, hacer comparativa de solicitudes antes y después de COVID (utilizar como referencia desde 2018)\n",
    "        \n",
    "4º Crear las bases de datos en SQL para poder hacer las queries ahí. Las localizaciones y fechas las tendremos que extraer del csv original\n",
    "5º Crear base de datos con los voluntarios menores en el año 2021\n",
    "    BUSQUEDAS:\n",
    "        - Número de voluntarios por edades (13, 14, 15, 16 y 17)\n",
    "        - Separar por sexo\n",
    "        - Separar por país\n",
    "        - Cuantos solicitaron 1 semana o 2. Separar por programa y ver las coincidencias por semana y programa \n",
    "        - Los que cumplieron 15 años en Julio de 2021\n",
    "\n",
    "5º Con la API sacar la información de los vuelos de los menores que llegaron en 2021 (lo utilizaré para el 2022, pero los datos aún no los tenemos, para el proyecto me vale). Hora de llegada, y terminal. Separar la información por terminal y hora. \n",
    "\n",
    "Buscar coordenadas de cada localización y distancia desde las capitales de provincia y desde Madrid.\n",
    "\n",
    "\n",
    "HIPOTESIS:\n",
    "La media de edad de los voluntarios es mayor de 60\n",
    "Un porcentaje muy elevado son mujeres\n",
    "Se solicitan más los programas de dos semanas que de una\n",
    "La mayoría son americanos\n",
    "Se están alcanzando los niveles de antes del COVID\n",
    "\n"
   ]
  }
 ],
 "metadata": {
  "language_info": {
   "name": "python"
  },
  "orig_nbformat": 4
 },
 "nbformat": 4,
 "nbformat_minor": 2
}
