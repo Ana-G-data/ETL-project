{
 "cells": [
  {
   "cell_type": "code",
   "execution_count": 1,
   "metadata": {},
   "outputs": [],
   "source": [
    "import requests\n",
    "import pandas as pd\n",
    "from time import sleep\n",
    "import numpy as np\n",
    "from tqdm import tqdm\n",
    "\n",
    "from selenium import webdriver\n",
    "from webdriver_manager.chrome import ChromeDriverManager\n",
    "from selenium.webdriver.common.keys import Keys\n",
    "from selenium.webdriver.chrome.options import Options\n",
    "\n",
    "from bs4 import BeautifulSoup\n",
    "import numpy as np\n",
    "\n",
    "import warnings\n",
    "warnings.filterwarnings('ignore')"
   ]
  },
  {
   "cell_type": "code",
   "execution_count": 2,
   "metadata": {},
   "outputs": [
    {
     "data": {
      "text/html": [
       "<div>\n",
       "<style scoped>\n",
       "    .dataframe tbody tr th:only-of-type {\n",
       "        vertical-align: middle;\n",
       "    }\n",
       "\n",
       "    .dataframe tbody tr th {\n",
       "        vertical-align: top;\n",
       "    }\n",
       "\n",
       "    .dataframe thead th {\n",
       "        text-align: right;\n",
       "    }\n",
       "</style>\n",
       "<table border=\"1\" class=\"dataframe\">\n",
       "  <thead>\n",
       "    <tr style=\"text-align: right;\">\n",
       "      <th></th>\n",
       "      <th>ciudad</th>\n",
       "      <th>codigo_iata</th>\n",
       "      <th>ciudad_original</th>\n",
       "    </tr>\n",
       "  </thead>\n",
       "  <tbody>\n",
       "    <tr>\n",
       "      <th>0</th>\n",
       "      <td>NYC--Kennedy</td>\n",
       "      <td>NYC</td>\n",
       "      <td>NYC--Kennedy</td>\n",
       "    </tr>\n",
       "    <tr>\n",
       "      <th>1</th>\n",
       "      <td>New York JFK</td>\n",
       "      <td>JFK</td>\n",
       "      <td>New York JFK</td>\n",
       "    </tr>\n",
       "    <tr>\n",
       "      <th>2</th>\n",
       "      <td>Nice (NCE)</td>\n",
       "      <td>NCE</td>\n",
       "      <td>Nice (NCE)</td>\n",
       "    </tr>\n",
       "    <tr>\n",
       "      <th>3</th>\n",
       "      <td>Roma (FCO)</td>\n",
       "      <td>FCO</td>\n",
       "      <td>Roma (FCO)</td>\n",
       "    </tr>\n",
       "    <tr>\n",
       "      <th>4</th>\n",
       "      <td>NYC-Kennedy</td>\n",
       "      <td>NYC</td>\n",
       "      <td>NYC-Kennedy</td>\n",
       "    </tr>\n",
       "  </tbody>\n",
       "</table>\n",
       "</div>"
      ],
      "text/plain": [
       "         ciudad codigo_iata ciudad_original\n",
       "0  NYC--Kennedy         NYC    NYC--Kennedy\n",
       "1  New York JFK         JFK    New York JFK\n",
       "2    Nice (NCE)         NCE      Nice (NCE)\n",
       "3    Roma (FCO)         FCO      Roma (FCO)\n",
       "4   NYC-Kennedy         NYC     NYC-Kennedy"
      ]
     },
     "execution_count": 2,
     "metadata": {},
     "output_type": "execute_result"
    }
   ],
   "source": [
    "df = pd.read_csv('datos/ciudades_1v.csv')\n",
    "df.head(5)"
   ]
  },
  {
   "cell_type": "code",
   "execution_count": 3,
   "metadata": {},
   "outputs": [
    {
     "data": {
      "text/plain": [
       "['NYC--Kennedy',\n",
       " 'New York JFK',\n",
       " 'Nice (NCE)',\n",
       " 'Roma (FCO)',\n",
       " 'NYC-Kennedy',\n",
       " 'Frankfurt (FRA)',\n",
       " 'London Heathrow (LHR)',\n",
       " 'Dublin (DUB)',\n",
       " 'Brussels (BRU)',\n",
       " 'London Heathrow LHR',\n",
       " 'San Juan - Miami - Madrid',\n",
       " 'Boston Logan (BOS)',\n",
       " 'Paris - Orly',\n",
       " 'London Stansted',\n",
       " 'Lisboa',\n",
       " 'AMSTERDAM',\n",
       " 'Edinburgh (EDI)',\n",
       " 'London Stansted (STN)',\n",
       " 'Málaga - Pablo Picasso',\n",
       " 'Istanbul (IST)',\n",
       " 'Woodstock',\n",
       " 'Miami (MIA)',\n",
       " 'EWR Newark',\n",
       " 'Lisbon',\n",
       " 'New York / Newark',\n",
       " 'Frankfurt Airport T2',\n",
       " 'We are travelling from Miami to Madrid.',\n",
       " 'Toronto/Frankfurt',\n",
       " 'Dallas Fort Worth (DFW)',\n",
       " 'Manchester (MAN)',\n",
       " 'Dallas DFW',\n",
       " 'Newark - Madrid',\n",
       " 'Toronto-Lisbon-Madrid',\n",
       " 'Lisbon (LIS)',\n",
       " 'Toronto - Frankfurt',\n",
       " 'Dublin']"
      ]
     },
     "execution_count": 3,
     "metadata": {},
     "output_type": "execute_result"
    }
   ],
   "source": [
    "ciudades=df[\"ciudad\"]\n",
    "ciudades_list = [value for value in ciudades]\n",
    "ciudades_list\n"
   ]
  },
  {
   "cell_type": "code",
   "execution_count": 4,
   "metadata": {},
   "outputs": [],
   "source": [
    "url_ciudades= 'https://es.wikipedia.org/wiki/Anexo:Aeropuertos_seg%C3%BAn_el_c%C3%B3digo_IATA'\n",
    "respuesta = requests.get(url_ciudades)"
   ]
  },
  {
   "cell_type": "code",
   "execution_count": 5,
   "metadata": {},
   "outputs": [],
   "source": [
    "html = respuesta.text"
   ]
  },
  {
   "cell_type": "code",
   "execution_count": 6,
   "metadata": {},
   "outputs": [],
   "source": [
    "sopa = BeautifulSoup(html, \"html.parser\")"
   ]
  },
  {
   "cell_type": "code",
   "execution_count": 7,
   "metadata": {},
   "outputs": [],
   "source": [
    "tablas = sopa.find_all(\"table\")"
   ]
  },
  {
   "cell_type": "code",
   "execution_count": 8,
   "metadata": {},
   "outputs": [],
   "source": [
    "#!pip install lxml"
   ]
  },
  {
   "cell_type": "code",
   "execution_count": 9,
   "metadata": {},
   "outputs": [],
   "source": [
    "# Create an empty dataframe to store the combined tables\n",
    "df = pd.DataFrame()\n",
    "\n",
    "# Iterate over the table elements\n",
    "for tabla in tablas:\n",
    "    # Parse the HTML content of the table into a dataframe\n",
    "    tabla_df = pd.read_html(str(tabla))[0]\n",
    "\n",
    "    # Add the rows from the table to the combined dataframe\n",
    "    df = df.append(tabla_df, ignore_index=True)\n"
   ]
  },
  {
   "cell_type": "code",
   "execution_count": 10,
   "metadata": {},
   "outputs": [
    {
     "data": {
      "text/html": [
       "<div>\n",
       "<style scoped>\n",
       "    .dataframe tbody tr th:only-of-type {\n",
       "        vertical-align: middle;\n",
       "    }\n",
       "\n",
       "    .dataframe tbody tr th {\n",
       "        vertical-align: top;\n",
       "    }\n",
       "\n",
       "    .dataframe thead th {\n",
       "        text-align: right;\n",
       "    }\n",
       "</style>\n",
       "<table border=\"1\" class=\"dataframe\">\n",
       "  <thead>\n",
       "    <tr style=\"text-align: right;\">\n",
       "      <th></th>\n",
       "      <th>0</th>\n",
       "      <th>Código IATA</th>\n",
       "      <th>Nombre</th>\n",
       "      <th>Sirve a</th>\n",
       "      <th>Región o estado</th>\n",
       "      <th>País</th>\n",
       "      <th>Código DAC</th>\n",
       "    </tr>\n",
       "  </thead>\n",
       "  <tbody>\n",
       "    <tr>\n",
       "      <th>0</th>\n",
       "      <td>Operativo</td>\n",
       "      <td>NaN</td>\n",
       "      <td>NaN</td>\n",
       "      <td>NaN</td>\n",
       "      <td>NaN</td>\n",
       "      <td>NaN</td>\n",
       "      <td>NaN</td>\n",
       "    </tr>\n",
       "    <tr>\n",
       "      <th>1</th>\n",
       "      <td>No operativo</td>\n",
       "      <td>NaN</td>\n",
       "      <td>NaN</td>\n",
       "      <td>NaN</td>\n",
       "      <td>NaN</td>\n",
       "      <td>NaN</td>\n",
       "      <td>NaN</td>\n",
       "    </tr>\n",
       "    <tr>\n",
       "      <th>2</th>\n",
       "      <td>Militar</td>\n",
       "      <td>NaN</td>\n",
       "      <td>NaN</td>\n",
       "      <td>NaN</td>\n",
       "      <td>NaN</td>\n",
       "      <td>NaN</td>\n",
       "      <td>NaN</td>\n",
       "    </tr>\n",
       "    <tr>\n",
       "      <th>3</th>\n",
       "      <td>NaN</td>\n",
       "      <td>ABC</td>\n",
       "      <td>Aeropuerto de Albacete</td>\n",
       "      <td>Albacete</td>\n",
       "      <td>Castilla-La Mancha</td>\n",
       "      <td>España</td>\n",
       "      <td>NaN</td>\n",
       "    </tr>\n",
       "    <tr>\n",
       "      <th>4</th>\n",
       "      <td>NaN</td>\n",
       "      <td>ABC</td>\n",
       "      <td>Base Aérea de Los Llanos</td>\n",
       "      <td>Albacete</td>\n",
       "      <td>Castilla-La Mancha</td>\n",
       "      <td>España</td>\n",
       "      <td>NaN</td>\n",
       "    </tr>\n",
       "    <tr>\n",
       "      <th>5</th>\n",
       "      <td>NaN</td>\n",
       "      <td>AEP</td>\n",
       "      <td>Aeroparque Jorge Newbery</td>\n",
       "      <td>Buenos Aires</td>\n",
       "      <td>Buenos Aires</td>\n",
       "      <td>Argentina</td>\n",
       "      <td>NaN</td>\n",
       "    </tr>\n",
       "    <tr>\n",
       "      <th>6</th>\n",
       "      <td>NaN</td>\n",
       "      <td>AFA</td>\n",
       "      <td>Aeropuerto Internacional Suboficial Ayudante S...</td>\n",
       "      <td>San Rafael</td>\n",
       "      <td>Mendoza</td>\n",
       "      <td>Argentina</td>\n",
       "      <td>NaN</td>\n",
       "    </tr>\n",
       "    <tr>\n",
       "      <th>7</th>\n",
       "      <td>NaN</td>\n",
       "      <td>AGP</td>\n",
       "      <td>Aeropuerto de Málaga-Costa del Sol</td>\n",
       "      <td>Málaga</td>\n",
       "      <td>Andalucía</td>\n",
       "      <td>España</td>\n",
       "      <td>NaN</td>\n",
       "    </tr>\n",
       "    <tr>\n",
       "      <th>8</th>\n",
       "      <td>NaN</td>\n",
       "      <td>AGT</td>\n",
       "      <td>Aeropuerto Internacional Guaraní</td>\n",
       "      <td>Ciudad del Este</td>\n",
       "      <td>Alto Paraná</td>\n",
       "      <td>Paraguay</td>\n",
       "      <td>NaN</td>\n",
       "    </tr>\n",
       "    <tr>\n",
       "      <th>9</th>\n",
       "      <td>NaN</td>\n",
       "      <td>AMS</td>\n",
       "      <td>Aeropuerto de Ámsterdam-Schiphol</td>\n",
       "      <td>Ámsterdam</td>\n",
       "      <td>Holanda Septentrional</td>\n",
       "      <td>Países Bajos</td>\n",
       "      <td>NaN</td>\n",
       "    </tr>\n",
       "  </tbody>\n",
       "</table>\n",
       "</div>"
      ],
      "text/plain": [
       "              0 Código IATA  \\\n",
       "0     Operativo         NaN   \n",
       "1  No operativo         NaN   \n",
       "2       Militar         NaN   \n",
       "3           NaN         ABC   \n",
       "4           NaN         ABC   \n",
       "5           NaN         AEP   \n",
       "6           NaN         AFA   \n",
       "7           NaN         AGP   \n",
       "8           NaN         AGT   \n",
       "9           NaN         AMS   \n",
       "\n",
       "                                              Nombre          Sirve a  \\\n",
       "0                                                NaN              NaN   \n",
       "1                                                NaN              NaN   \n",
       "2                                                NaN              NaN   \n",
       "3                             Aeropuerto de Albacete         Albacete   \n",
       "4                           Base Aérea de Los Llanos         Albacete   \n",
       "5                           Aeroparque Jorge Newbery     Buenos Aires   \n",
       "6  Aeropuerto Internacional Suboficial Ayudante S...       San Rafael   \n",
       "7                 Aeropuerto de Málaga-Costa del Sol           Málaga   \n",
       "8                   Aeropuerto Internacional Guaraní  Ciudad del Este   \n",
       "9                   Aeropuerto de Ámsterdam-Schiphol        Ámsterdam   \n",
       "\n",
       "         Región o estado          País Código DAC  \n",
       "0                    NaN           NaN        NaN  \n",
       "1                    NaN           NaN        NaN  \n",
       "2                    NaN           NaN        NaN  \n",
       "3     Castilla-La Mancha        España        NaN  \n",
       "4     Castilla-La Mancha        España        NaN  \n",
       "5           Buenos Aires     Argentina        NaN  \n",
       "6                Mendoza     Argentina        NaN  \n",
       "7              Andalucía        España        NaN  \n",
       "8            Alto Paraná      Paraguay        NaN  \n",
       "9  Holanda Septentrional  Países Bajos        NaN  "
      ]
     },
     "execution_count": 10,
     "metadata": {},
     "output_type": "execute_result"
    }
   ],
   "source": [
    "df.head(10)"
   ]
  },
  {
   "cell_type": "code",
   "execution_count": 11,
   "metadata": {},
   "outputs": [],
   "source": [
    "df = df.iloc[3:]\n",
    "df=df.drop([0,\"Código DAC\"],axis=1)\n"
   ]
  },
  {
   "cell_type": "code",
   "execution_count": 12,
   "metadata": {},
   "outputs": [
    {
     "data": {
      "text/html": [
       "<div>\n",
       "<style scoped>\n",
       "    .dataframe tbody tr th:only-of-type {\n",
       "        vertical-align: middle;\n",
       "    }\n",
       "\n",
       "    .dataframe tbody tr th {\n",
       "        vertical-align: top;\n",
       "    }\n",
       "\n",
       "    .dataframe thead th {\n",
       "        text-align: right;\n",
       "    }\n",
       "</style>\n",
       "<table border=\"1\" class=\"dataframe\">\n",
       "  <thead>\n",
       "    <tr style=\"text-align: right;\">\n",
       "      <th></th>\n",
       "      <th>Código IATA</th>\n",
       "      <th>Nombre</th>\n",
       "      <th>Sirve a</th>\n",
       "      <th>Región o estado</th>\n",
       "      <th>País</th>\n",
       "    </tr>\n",
       "  </thead>\n",
       "  <tbody>\n",
       "    <tr>\n",
       "      <th>3</th>\n",
       "      <td>ABC</td>\n",
       "      <td>Aeropuerto de Albacete</td>\n",
       "      <td>Albacete</td>\n",
       "      <td>Castilla-La Mancha</td>\n",
       "      <td>España</td>\n",
       "    </tr>\n",
       "    <tr>\n",
       "      <th>4</th>\n",
       "      <td>ABC</td>\n",
       "      <td>Base Aérea de Los Llanos</td>\n",
       "      <td>Albacete</td>\n",
       "      <td>Castilla-La Mancha</td>\n",
       "      <td>España</td>\n",
       "    </tr>\n",
       "  </tbody>\n",
       "</table>\n",
       "</div>"
      ],
      "text/plain": [
       "  Código IATA                    Nombre   Sirve a     Región o estado    País\n",
       "3         ABC    Aeropuerto de Albacete  Albacete  Castilla-La Mancha  España\n",
       "4         ABC  Base Aérea de Los Llanos  Albacete  Castilla-La Mancha  España"
      ]
     },
     "execution_count": 12,
     "metadata": {},
     "output_type": "execute_result"
    }
   ],
   "source": [
    "df.head(2)"
   ]
  },
  {
   "cell_type": "code",
   "execution_count": 13,
   "metadata": {},
   "outputs": [
    {
     "data": {
      "text/html": [
       "<div>\n",
       "<style scoped>\n",
       "    .dataframe tbody tr th:only-of-type {\n",
       "        vertical-align: middle;\n",
       "    }\n",
       "\n",
       "    .dataframe tbody tr th {\n",
       "        vertical-align: top;\n",
       "    }\n",
       "\n",
       "    .dataframe thead th {\n",
       "        text-align: right;\n",
       "    }\n",
       "</style>\n",
       "<table border=\"1\" class=\"dataframe\">\n",
       "  <thead>\n",
       "    <tr style=\"text-align: right;\">\n",
       "      <th></th>\n",
       "      <th>Código IATA</th>\n",
       "      <th>Nombre</th>\n",
       "      <th>Sirve a</th>\n",
       "      <th>Región o estado</th>\n",
       "      <th>País</th>\n",
       "    </tr>\n",
       "  </thead>\n",
       "  <tbody>\n",
       "    <tr>\n",
       "      <th>0</th>\n",
       "      <td>ABC</td>\n",
       "      <td>Aeropuerto de Albacete</td>\n",
       "      <td>Albacete</td>\n",
       "      <td>Castilla-La Mancha</td>\n",
       "      <td>España</td>\n",
       "    </tr>\n",
       "    <tr>\n",
       "      <th>1</th>\n",
       "      <td>ABC</td>\n",
       "      <td>Base Aérea de Los Llanos</td>\n",
       "      <td>Albacete</td>\n",
       "      <td>Castilla-La Mancha</td>\n",
       "      <td>España</td>\n",
       "    </tr>\n",
       "  </tbody>\n",
       "</table>\n",
       "</div>"
      ],
      "text/plain": [
       "  Código IATA                    Nombre   Sirve a     Región o estado    País\n",
       "0         ABC    Aeropuerto de Albacete  Albacete  Castilla-La Mancha  España\n",
       "1         ABC  Base Aérea de Los Llanos  Albacete  Castilla-La Mancha  España"
      ]
     },
     "execution_count": 13,
     "metadata": {},
     "output_type": "execute_result"
    }
   ],
   "source": [
    "df = df.reset_index(drop=True)\n",
    "df.head(2)"
   ]
  },
  {
   "cell_type": "code",
   "execution_count": 14,
   "metadata": {},
   "outputs": [],
   "source": [
    "df.to_csv(\"datos/codigo_iata.csv\",index=False, header=True)"
   ]
  }
 ],
 "metadata": {
  "kernelspec": {
   "display_name": "iron",
   "language": "python",
   "name": "python3"
  },
  "language_info": {
   "codemirror_mode": {
    "name": "ipython",
    "version": 3
   },
   "file_extension": ".py",
   "mimetype": "text/x-python",
   "name": "python",
   "nbconvert_exporter": "python",
   "pygments_lexer": "ipython3",
   "version": "3.9.13"
  },
  "orig_nbformat": 4,
  "vscode": {
   "interpreter": {
    "hash": "9a663b74384d2f44897fdded7e66d2264ff63e4137a495a11087e8697bb143f9"
   }
  }
 },
 "nbformat": 4,
 "nbformat_minor": 2
}
